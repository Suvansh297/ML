{
 "cells": [
  {
   "cell_type": "markdown",
   "id": "2ebf69e0",
   "metadata": {},
   "source": [
    "# Google sheet to panda dataframe converter"
   ]
  },
  {
   "cell_type": "markdown",
   "id": "1c74be00",
   "metadata": {},
   "source": [
    "#### The google sheet should be accesible publicly."
   ]
  },
  {
   "cell_type": "code",
   "execution_count": 3,
   "id": "0d3a40df",
   "metadata": {},
   "outputs": [],
   "source": [
    "import numpy as np\n",
    "import pandas as pd\n",
    "import re"
   ]
  },
  {
   "cell_type": "code",
   "execution_count": 4,
   "id": "93f42b62",
   "metadata": {},
   "outputs": [],
   "source": [
    "def convert_google_sheet_url(url):\n",
    "    # Regular expression to match and capture the necessary part of the URL\n",
    "    pattern = r'https://docs\\.google\\.com/spreadsheets/d/([a-zA-Z0-9-_]+)(/edit#gid=(\\d+)|/edit.*)?'\n",
    "\n",
    "    # Replace function to construct the new URL for CSV export\n",
    "    # If gid is present in the URL, it includes it in the export URL, otherwise, it's omitted\n",
    "    replacement = lambda m: f'https://docs.google.com/spreadsheets/d/{m.group(1)}/export?' + (f'gid={m.group(3)}&' if m.group(3) else '') + 'format=csv'\n",
    "\n",
    "    # Replace using regex\n",
    "    new_url = re.sub(pattern, replacement, url)\n",
    "\n",
    "    return new_url"
   ]
  },
  {
   "cell_type": "markdown",
   "id": "e06e504c",
   "metadata": {},
   "source": [
    "Use above function to convert your URL.\n",
    "Then feed it into a pandas dataframe."
   ]
  },
  {
   "cell_type": "code",
   "execution_count": 5,
   "id": "4f670d7d",
   "metadata": {},
   "outputs": [
    {
     "name": "stdout",
     "output_type": "stream",
     "text": [
      "https://docs.google.com/spreadsheets/d/1sxzaxgF7kNojdijfmMaG_nUb_rjKUKsC1FavQnTsggY/edit#gid=1712771621\n",
      "https://docs.google.com/spreadsheets/d/1sxzaxgF7kNojdijfmMaG_nUb_rjKUKsC1FavQnTsggY/export?gid=1712771621&format=csv\n"
     ]
    }
   ],
   "source": [
    "url = 'https://docs.google.com/spreadsheets/d/1sxzaxgF7kNojdijfmMaG_nUb_rjKUKsC1FavQnTsggY/edit#gid=1712771621'\n",
    "new_url = convert_google_sheet_url(url)\n",
    "\n",
    "print(url)\n",
    "print(new_url)"
   ]
  },
  {
   "cell_type": "code",
   "execution_count": 7,
   "id": "353243e9",
   "metadata": {},
   "outputs": [
    {
     "name": "stdout",
     "output_type": "stream",
     "text": [
      "<class 'pandas.core.frame.DataFrame'>\n",
      "RangeIndex: 43769 entries, 0 to 43768\n",
      "Data columns (total 25 columns):\n",
      " #   Column                   Non-Null Count  Dtype  \n",
      "---  ------                   --------------  -----  \n",
      " 0   CRL                      26321 non-null  float64\n",
      " 1   Roll Number              43769 non-null  int64  \n",
      " 2   City                     43769 non-null  object \n",
      " 3   State                    43769 non-null  object \n",
      " 4   Institute Name           17340 non-null  object \n",
      " 5   Program                  17340 non-null  object \n",
      " 6   Seat Allotment Category  17340 non-null  object \n",
      " 7   Seat Allotment Pool      17340 non-null  object \n",
      " 8   GEN-EWS                  5371 non-null   float64\n",
      " 9   OBC-NCL                  9049 non-null   float64\n",
      " 10  SC                       5004 non-null   float64\n",
      " 11  ST                       1645 non-null   float64\n",
      " 12  CRL-PWD                  198 non-null    float64\n",
      " 13  GEN-EWS-PWD              26 non-null     float64\n",
      " 14  OBC-NCL-PWD              72 non-null     float64\n",
      " 15  SC-PWD                   9 non-null      float64\n",
      " 16  ST-PWD                   5 non-null      float64\n",
      " 17  PREP-SC                  6017 non-null   float64\n",
      " 18  PREP-ST                  2451 non-null   float64\n",
      " 19  PREP-CRL-PWD             276 non-null    float64\n",
      " 20  PREP-GEN-EWS-PWD         48 non-null     float64\n",
      " 21  PREP-OBC-NCL-PWD         109 non-null    float64\n",
      " 22  PREP-SC-PWD              19 non-null     float64\n",
      " 23  PREP-ST-PWD              9 non-null      float64\n",
      " 24  AAT Status               43769 non-null  object \n",
      "dtypes: float64(17), int64(1), object(7)\n",
      "memory usage: 8.3+ MB\n"
     ]
    }
   ],
   "source": [
    "dataf = pd.read_csv(new_url)\n",
    "dataf.info()"
   ]
  },
  {
   "cell_type": "code",
   "execution_count": null,
   "id": "3570ce43",
   "metadata": {},
   "outputs": [],
   "source": []
  }
 ],
 "metadata": {
  "kernelspec": {
   "display_name": "Python 3 (ipykernel)",
   "language": "python",
   "name": "python3"
  },
  "language_info": {
   "codemirror_mode": {
    "name": "ipython",
    "version": 3
   },
   "file_extension": ".py",
   "mimetype": "text/x-python",
   "name": "python",
   "nbconvert_exporter": "python",
   "pygments_lexer": "ipython3",
   "version": "3.11.5"
  }
 },
 "nbformat": 4,
 "nbformat_minor": 5
}
